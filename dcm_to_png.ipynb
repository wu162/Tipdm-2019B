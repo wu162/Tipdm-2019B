{
 "cells": [
  {
   "cell_type": "code",
   "execution_count": 1,
   "metadata": {},
   "outputs": [],
   "source": [
    "#这个是读取所有dcm并将其中的图片转换为png格式的\n",
    "\n",
    "import numpy as np # linear algebra\n",
    "import pandas as pd # data processing, CSV file I/O (e.g. pd.read_csv)\n",
    "import skimage, os\n",
    "import SimpleITK as sitk\n",
    "import scipy.misc\n",
    "import numpy as np\n",
    "import matplotlib.pyplot as plt\n",
    "import scipy.misc"
   ]
  },
  {
   "cell_type": "code",
   "execution_count": 2,
   "metadata": {},
   "outputs": [],
   "source": [
    "input_path='./B-allData/apDCM/'"
   ]
  },
  {
   "cell_type": "code",
   "execution_count": 3,
   "metadata": {},
   "outputs": [
    {
     "name": "stderr",
     "output_type": "stream",
     "text": [
      "E:\\Miniconda3\\envs\\tensorflow\\lib\\site-packages\\ipykernel_launcher.py:12: DeprecationWarning: `imsave` is deprecated!\n",
      "`imsave` is deprecated in SciPy 1.0.0, and will be removed in 1.2.0.\n",
      "Use ``imageio.imwrite`` instead.\n",
      "  if sys.path[0] == '':\n"
     ]
    }
   ],
   "source": [
    "patients=os.listdir(input_path)\n",
    "patients.sort()\n",
    "for patient in patients:\n",
    "    dcm_path=[]\n",
    "    file_names=os.listdir(input_path+patient+'/')\n",
    "    file_names.sort()\n",
    "    dcm_path=[input_path+patient+'/'+file_name for file_name in file_names]\n",
    "    img=sitk.ReadImage(dcm_path)\n",
    "    img_arrays = sitk.GetArrayFromImage(img)\n",
    "    os.mkdir('./B-allData/ct_scan/'+patient)\n",
    "    for i,img_array in enumerate(img_arrays):\n",
    "        scipy.misc.imsave('./B-allData/ct_scan/'+patient+'/'+file_names[i].split('.')[0]+'.png', img_array)"
   ]
  },
  {
   "cell_type": "code",
   "execution_count": null,
   "metadata": {},
   "outputs": [],
   "source": [
    "#所有的图片尺寸都是512*512\n",
    "#for path in dcm_path:\n",
    "#    img=sitk.ReadImage(path)\n",
    "#    img_array = np.squeeze(sitk.GetArrayFromImage(img))\n",
    "#     if img_array.shape!=(512,512):\n",
    "#        print(path,\"     \",img_array.shape)"
   ]
  }
 ],
 "metadata": {
  "kernelspec": {
   "display_name": "Python 3",
   "language": "python",
   "name": "python3"
  },
  "language_info": {
   "codemirror_mode": {
    "name": "ipython",
    "version": 3
   },
   "file_extension": ".py",
   "mimetype": "text/x-python",
   "name": "python",
   "nbconvert_exporter": "python",
   "pygments_lexer": "ipython3",
   "version": "3.6.8"
  }
 },
 "nbformat": 4,
 "nbformat_minor": 2
}
