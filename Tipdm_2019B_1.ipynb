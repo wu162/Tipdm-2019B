{
  "nbformat": 4,
  "nbformat_minor": 0,
  "metadata": {
    "colab": {
      "name": "Tipdm_2019B_1.ipynb",
      "version": "0.3.2",
      "provenance": [],
      "collapsed_sections": [],
      "include_colab_link": true
    },
    "kernelspec": {
      "name": "python3",
      "display_name": "Python 3"
    },
    "accelerator": "GPU"
  },
  "cells": [
    {
      "cell_type": "markdown",
      "metadata": {
        "id": "view-in-github",
        "colab_type": "text"
      },
      "source": [
        "<a href=\"https://colab.research.google.com/github/wu162/Tipdm-2019B/blob/master/Tipdm_2019B_1.ipynb\" target=\"_parent\"><img src=\"https://colab.research.google.com/assets/colab-badge.svg\" alt=\"Open In Colab\"/></a>"
      ]
    },
    {
      "metadata": {
        "id": "7XmJAZeriBbL",
        "colab_type": "code",
        "outputId": "6f275275-016b-4ce7-d8ed-8121b5812752",
        "colab": {
          "base_uri": "https://localhost:8080/",
          "height": 102
        }
      },
      "cell_type": "code",
      "source": [
        "# memory footprint support libraries/code\n",
        "!ln -sf /opt/bin/nvidia-smi /usr/bin/nvidia-smi\n",
        "!pip install gputil\n",
        "!pip install psutil\n",
        "!pip install humanize\n",
        "import psutil\n",
        "import humanize\n",
        "import os\n",
        "import GPUtil as GPU\n",
        "GPUs = GPU.getGPUs()\n",
        "# XXX: only one GPU on Colab and isn’t guaranteed\n",
        "gpu = GPUs[0]\n",
        "def printm():\n",
        " process = psutil.Process(os.getpid())\n",
        " print(\"Gen RAM Free: \" + humanize.naturalsize( psutil.virtual_memory().available ), \" | Proc size: \" + humanize.naturalsize( process.memory_info().rss))\n",
        " print(\"GPU RAM Free: {0:.0f}MB | Used: {1:.0f}MB | Util {2:3.0f}% | Total {3:.0f}MB\".format(gpu.memoryFree, gpu.memoryUsed, gpu.memoryUtil*100, gpu.memoryTotal))\n",
        "printm()"
      ],
      "execution_count": 0,
      "outputs": [
        {
          "output_type": "stream",
          "text": [
            "Requirement already satisfied: gputil in /usr/local/lib/python3.6/dist-packages (1.4.0)\n",
            "Requirement already satisfied: psutil in /usr/local/lib/python3.6/dist-packages (5.4.8)\n",
            "Requirement already satisfied: humanize in /usr/local/lib/python3.6/dist-packages (0.5.1)\n",
            "Gen RAM Free: 11.0 GB  | Proc size: 3.4 GB\n",
            "GPU RAM Free: 6392MB | Used: 8687MB | Util  58% | Total 15079MB\n"
          ],
          "name": "stdout"
        }
      ]
    },
    {
      "metadata": {
        "id": "kT4VpS8fi8lP",
        "colab_type": "code",
        "outputId": "f3f2e83e-c597-417b-c257-0a82a4bc6dfe",
        "colab": {
          "base_uri": "https://localhost:8080/",
          "height": 224
        }
      },
      "cell_type": "code",
      "source": [
        "!apt-get install -y -qq software-properties-common python-software-properties module-init-tools\n",
        "!add-apt-repository -y ppa:alessandro-strada/ppa 2>&1 > /dev/null\n",
        "!apt-get update -qq 2>&1 > /dev/null\n",
        "!apt-get -y install -qq google-drive-ocamlfuse fuse\n",
        "from google.colab import auth\n",
        "auth.authenticate_user()\n",
        "from oauth2client.client import GoogleCredentials\n",
        "creds = GoogleCredentials.get_application_default()\n",
        "import getpass\n",
        "!google-drive-ocamlfuse -headless -id={creds.client_id} -secret={creds.client_secret} < /dev/null 2>&1 | grep URL\n",
        "vcode = getpass.getpass()\n",
        "!echo {vcode} | google-drive-ocamlfuse -headless -id={creds.client_id} -secret={creds.client_secret}"
      ],
      "execution_count": 1,
      "outputs": [
        {
          "output_type": "stream",
          "text": [
            "E: Package 'python-software-properties' has no installation candidate\n",
            "Selecting previously unselected package google-drive-ocamlfuse.\n",
            "(Reading database ... 131304 files and directories currently installed.)\n",
            "Preparing to unpack .../google-drive-ocamlfuse_0.7.3-0ubuntu3~ubuntu18.04.1_amd64.deb ...\n",
            "Unpacking google-drive-ocamlfuse (0.7.3-0ubuntu3~ubuntu18.04.1) ...\n",
            "Setting up google-drive-ocamlfuse (0.7.3-0ubuntu3~ubuntu18.04.1) ...\n",
            "Processing triggers for man-db (2.8.3-2ubuntu0.1) ...\n",
            "Please, open the following URL in a web browser: https://accounts.google.com/o/oauth2/auth?client_id=32555940559.apps.googleusercontent.com&redirect_uri=urn%3Aietf%3Awg%3Aoauth%3A2.0%3Aoob&scope=https%3A%2F%2Fwww.googleapis.com%2Fauth%2Fdrive&response_type=code&access_type=offline&approval_prompt=force\n",
            "··········\n",
            "Please, open the following URL in a web browser: https://accounts.google.com/o/oauth2/auth?client_id=32555940559.apps.googleusercontent.com&redirect_uri=urn%3Aietf%3Awg%3Aoauth%3A2.0%3Aoob&scope=https%3A%2F%2Fwww.googleapis.com%2Fauth%2Fdrive&response_type=code&access_type=offline&approval_prompt=force\n",
            "Please enter the verification code: Access token retrieved correctly.\n"
          ],
          "name": "stdout"
        }
      ]
    },
    {
      "metadata": {
        "id": "dCUDOtPLi9NO",
        "colab_type": "code",
        "colab": {}
      },
      "cell_type": "code",
      "source": [
        "# 指定Google Drive云端硬盘的根目录，名为drive\n",
        "!mkdir -p drive\n",
        "!google-drive-ocamlfuse drive"
      ],
      "execution_count": 0,
      "outputs": []
    },
    {
      "metadata": {
        "id": "qBDU7Jhijx9j",
        "colab_type": "code",
        "colab": {}
      },
      "cell_type": "code",
      "source": [
        "# 指定当前的工作文件夹\n",
        "import os\n",
        "\n",
        "# 此处为google drive中的文件路径,drive为之前指定的工作根目录，要加上\n",
        "os.chdir(\"drive/Tipdm-2019B/\") "
      ],
      "execution_count": 0,
      "outputs": []
    },
    {
      "metadata": {
        "id": "tx86W2tTj2m-",
        "colab_type": "code",
        "outputId": "2aece713-d190-47c7-82d0-40957dd612d1",
        "colab": {
          "base_uri": "https://localhost:8080/",
          "height": 51
        }
      },
      "cell_type": "code",
      "source": [
        "!ls"
      ],
      "execution_count": 8,
      "outputs": [
        {
          "output_type": "stream",
          "text": [
            "ct_scan2_test\tdrive\t    mask2_train\t\t unet_256_1.hdf5\n",
            "ct_scan2_train\tmask2_test  Tipdm_2019B_1.ipynb  unet_membrane.hdf5\n"
          ],
          "name": "stdout"
        }
      ]
    },
    {
      "metadata": {
        "id": "ukH1xhWVMfdL",
        "colab_type": "code",
        "colab": {}
      },
      "cell_type": "code",
      "source": [
        "#start from here\n",
        "import numpy as np \n",
        "import os\n",
        "import skimage.io as io\n",
        "import skimage.transform as trans\n",
        "import numpy as np\n",
        "from keras.models import *\n",
        "from keras.layers import *\n",
        "from keras.optimizers import *\n",
        "from keras.callbacks import ModelCheckpoint, LearningRateScheduler\n",
        "from keras import backend as keras\n",
        "from keras.optimizers import Adam\n",
        "from keras.losses import binary_crossentropy\n",
        "\n",
        "smooth = 1\n",
        "\n",
        "def dice_coef(y_true, y_pred):\n",
        "    y_true_f = K.flatten(y_true)\n",
        "    y_pred_f = K.flatten(y_pred)\n",
        "    intersection = K.sum(y_true_f * y_pred_f)\n",
        "    return (2. * intersection+smooth) / (K.sum(y_true_f) + K.sum(y_pred_f)+smooth)\n",
        "\n",
        "\n",
        "def bce_dice_loss(y_true, y_pred):\n",
        "    return  0.5*binary_crossentropy(y_true, y_pred) - 0.5*dice_coef(y_true, y_pred)\n",
        "\n",
        "def unet(pretrained_weights = None,input_size = (512,512,1)):\n",
        "    inputs = Input(input_size)\n",
        "    conv1 = Conv2D(64, 3, activation = 'relu', padding = 'same', kernel_initializer = 'he_normal')(inputs)\n",
        "    conv1 = Conv2D(64, 3, activation = 'relu', padding = 'same', kernel_initializer = 'he_normal')(conv1)\n",
        "    pool1 = MaxPooling2D(pool_size=(2, 2))(conv1)\n",
        "    conv2 = Conv2D(128, 3, activation = 'relu', padding = 'same', kernel_initializer = 'he_normal')(pool1)\n",
        "    conv2 = Conv2D(128, 3, activation = 'relu', padding = 'same', kernel_initializer = 'he_normal')(conv2)\n",
        "    pool2 = MaxPooling2D(pool_size=(2, 2))(conv2)\n",
        "    conv3 = Conv2D(256, 3, activation = 'relu', padding = 'same', kernel_initializer = 'he_normal')(pool2)\n",
        "    conv3 = Conv2D(256, 3, activation = 'relu', padding = 'same', kernel_initializer = 'he_normal')(conv3)\n",
        "    pool3 = MaxPooling2D(pool_size=(2, 2))(conv3)\n",
        "    conv4 = Conv2D(512, 3, activation = 'relu', padding = 'same', kernel_initializer = 'he_normal')(pool3)\n",
        "    conv4 = Conv2D(512, 3, activation = 'relu', padding = 'same', kernel_initializer = 'he_normal')(conv4)\n",
        "    drop4 = Dropout(0.5)(conv4)\n",
        "    pool4 = MaxPooling2D(pool_size=(2, 2))(drop4)\n",
        "\n",
        "    conv5 = Conv2D(1024, 3, activation = 'relu', padding = 'same', kernel_initializer = 'he_normal')(pool4)\n",
        "    conv5 = Conv2D(1024, 3, activation = 'relu', padding = 'same', kernel_initializer = 'he_normal')(conv5)\n",
        "    drop5 = Dropout(0.5)(conv5)\n",
        "\n",
        "    up6 = Conv2D(512, 2, activation = 'relu', padding = 'same', kernel_initializer = 'he_normal')(UpSampling2D(size = (2,2))(drop5))\n",
        "    merge6 = concatenate([drop4,up6], axis = 3)\n",
        "    conv6 = Conv2D(512, 3, activation = 'relu', padding = 'same', kernel_initializer = 'he_normal')(merge6)\n",
        "    conv6 = Conv2D(512, 3, activation = 'relu', padding = 'same', kernel_initializer = 'he_normal')(conv6)\n",
        "\n",
        "    up7 = Conv2D(256, 2, activation = 'relu', padding = 'same', kernel_initializer = 'he_normal')(UpSampling2D(size = (2,2))(conv6))\n",
        "    merge7 = concatenate([conv3,up7], axis = 3)\n",
        "    conv7 = Conv2D(256, 3, activation = 'relu', padding = 'same', kernel_initializer = 'he_normal')(merge7)\n",
        "    conv7 = Conv2D(256, 3, activation = 'relu', padding = 'same', kernel_initializer = 'he_normal')(conv7)\n",
        "\n",
        "    up8 = Conv2D(128, 2, activation = 'relu', padding = 'same', kernel_initializer = 'he_normal')(UpSampling2D(size = (2,2))(conv7))\n",
        "    merge8 = concatenate([conv2,up8], axis = 3)\n",
        "    conv8 = Conv2D(128, 3, activation = 'relu', padding = 'same', kernel_initializer = 'he_normal')(merge8)\n",
        "    conv8 = Conv2D(128, 3, activation = 'relu', padding = 'same', kernel_initializer = 'he_normal')(conv8)\n",
        "\n",
        "    up9 = Conv2D(64, 2, activation = 'relu', padding = 'same', kernel_initializer = 'he_normal')(UpSampling2D(size = (2,2))(conv8))\n",
        "    merge9 = concatenate([conv1,up9], axis = 3)\n",
        "    conv9 = Conv2D(64, 3, activation = 'relu', padding = 'same', kernel_initializer = 'he_normal')(merge9)\n",
        "    conv9 = Conv2D(64, 3, activation = 'relu', padding = 'same', kernel_initializer = 'he_normal')(conv9)\n",
        "    conv9 = Conv2D(2, 3, activation = 'relu', padding = 'same', kernel_initializer = 'he_normal')(conv9)\n",
        "    conv10 = Conv2D(1, 1, activation = 'sigmoid')(conv9)\n",
        "\n",
        "    model = Model(input = inputs, output = conv10)\n",
        "\n",
        "    model.compile(Adam(lr = 1e-4),bce_dice_loss, metrics = ['accuracy',dice_coef])\n",
        "    \n",
        "    #model.summary()\n",
        "\n",
        "    if(pretrained_weights):\n",
        "    \tmodel.load_weights(pretrained_weights)\n",
        "\n",
        "      \n",
        "    return model"
      ],
      "execution_count": 0,
      "outputs": []
    },
    {
      "metadata": {
        "id": "P3lL5sPO5Yfd",
        "colab_type": "code",
        "colab": {}
      },
      "cell_type": "code",
      "source": [
        "from keras.preprocessing.image import ImageDataGenerator"
      ],
      "execution_count": 0,
      "outputs": []
    },
    {
      "metadata": {
        "id": "aDlJlXdkzItZ",
        "colab_type": "code",
        "colab": {
          "base_uri": "https://localhost:8080/",
          "height": 85
        },
        "outputId": "7288358a-d7db-4b51-d59e-5d6ef890e537"
      },
      "cell_type": "code",
      "source": [
        "data_gen_args = dict(featurewise_center=True,\n",
        "                     featurewise_std_normalization=True,\n",
        "                     rotation_range=90,\n",
        "                     width_shift_range=0.1,\n",
        "                     height_shift_range=0.1,\n",
        "                     zoom_range=0.2)\n",
        "image_datagen = ImageDataGenerator(**data_gen_args)\n",
        "mask_datagen = ImageDataGenerator(**data_gen_args)\n",
        "\n",
        "\n",
        "seed = 1\n",
        "x_generator_train = image_datagen.flow_from_directory(\n",
        "    './ct_scan2_train',\n",
        "    target_size=(256, 256), \n",
        "    color_mode='grayscale',\n",
        "    batch_size=8,\n",
        "    class_mode=None,\n",
        "    seed=seed)\n",
        "\n",
        "y_generator_train = mask_datagen.flow_from_directory(\n",
        "    './mask2_train',\n",
        "    target_size=(256, 256), \n",
        "    color_mode='grayscale',\n",
        "    batch_size=8,\n",
        "    class_mode=None,\n",
        "    seed=seed)\n",
        "\n",
        "x_generator_test = image_datagen.flow_from_directory(\n",
        "    './ct_scan2_test',\n",
        "    target_size=(256, 256), \n",
        "    color_mode='grayscale',\n",
        "    batch_size=8,\n",
        "    class_mode=None,\n",
        "    seed=seed)\n",
        "\n",
        "y_generator_test = mask_datagen.flow_from_directory(\n",
        "    './mask2_test',\n",
        "    target_size=(256, 256), \n",
        "    color_mode='grayscale',\n",
        "    batch_size=8,\n",
        "    class_mode=None,\n",
        "    seed=seed)\n",
        "\n",
        "train_generator = zip(x_generator_train, y_generator_train)\n",
        "test_generator = zip(x_generator_test, y_generator_test)"
      ],
      "execution_count": 20,
      "outputs": [
        {
          "output_type": "stream",
          "text": [
            "Found 2506 images belonging to 88 classes.\n",
            "Found 2506 images belonging to 88 classes.\n",
            "Found 523 images belonging to 19 classes.\n",
            "Found 523 images belonging to 19 classes.\n"
          ],
          "name": "stdout"
        }
      ]
    },
    {
      "metadata": {
        "id": "Tz82d6OQ1oJs",
        "colab_type": "code",
        "colab": {
          "base_uri": "https://localhost:8080/",
          "height": 819
        },
        "outputId": "2f05713a-e7b2-49e0-f071-994d5b029310"
      },
      "cell_type": "code",
      "source": [
        "model=unet(input_size = (256,256,1))\n",
        "model.fit_generator(train_generator,steps_per_epoch=300,epochs=20,validation_data=test_generator,validation_steps=4)"
      ],
      "execution_count": 23,
      "outputs": [
        {
          "output_type": "stream",
          "text": [
            "/usr/local/lib/python3.6/dist-packages/keras_preprocessing/image/image_data_generator.py:699: UserWarning: This ImageDataGenerator specifies `featurewise_center`, but it hasn't been fit on any training data. Fit it first by calling `.fit(numpy_data)`.\n",
            "  warnings.warn('This ImageDataGenerator specifies '\n",
            "/usr/local/lib/python3.6/dist-packages/keras_preprocessing/image/image_data_generator.py:707: UserWarning: This ImageDataGenerator specifies `featurewise_std_normalization`, but it hasn't been fit on any training data. Fit it first by calling `.fit(numpy_data)`.\n",
            "  warnings.warn('This ImageDataGenerator specifies '\n",
            "/usr/local/lib/python3.6/dist-packages/ipykernel_launcher.py:68: UserWarning: Update your `Model` call to the Keras 2 API: `Model(inputs=Tensor(\"in..., outputs=Tensor(\"co...)`\n"
          ],
          "name": "stderr"
        },
        {
          "output_type": "stream",
          "text": [
            "Epoch 1/20\n",
            "300/300 [==============================] - 1585s 5s/step - loss: -1.2575 - acc: 0.0025 - dice_coef: 0.7704 - val_loss: 9.9030e-04 - val_acc: 0.0000e+00 - val_dice_coef: 0.6774\n",
            "Epoch 2/20\n",
            "300/300 [==============================] - 179s 597ms/step - loss: -0.0111 - acc: 0.0000e+00 - dice_coef: 0.6784 - val_loss: -0.0125 - val_acc: 0.0000e+00 - val_dice_coef: 0.6872\n",
            "Epoch 3/20\n",
            "300/300 [==============================] - 179s 597ms/step - loss: -0.0339 - acc: 0.0000e+00 - dice_coef: 0.6931 - val_loss: 0.0717 - val_acc: 0.0000e+00 - val_dice_coef: 0.5249\n",
            "Epoch 4/20\n",
            "300/300 [==============================] - 180s 598ms/step - loss: -0.0470 - acc: 0.0000e+00 - dice_coef: 0.6940 - val_loss: -0.1440 - val_acc: 0.0000e+00 - val_dice_coef: 0.8163\n",
            "Epoch 5/20\n",
            "300/300 [==============================] - 179s 597ms/step - loss: -0.0674 - acc: 0.0000e+00 - dice_coef: 0.7036 - val_loss: 0.0897 - val_acc: 0.0000e+00 - val_dice_coef: 0.4718\n",
            "Epoch 6/20\n",
            "300/300 [==============================] - 179s 596ms/step - loss: -0.0768 - acc: 0.0000e+00 - dice_coef: 0.7000 - val_loss: 0.0659 - val_acc: 0.0000e+00 - val_dice_coef: 0.5050\n",
            "Epoch 7/20\n",
            "300/300 [==============================] - 179s 597ms/step - loss: -0.1049 - acc: 0.0000e+00 - dice_coef: 0.7290 - val_loss: -0.1777 - val_acc: 0.0000e+00 - val_dice_coef: 0.8104\n",
            "Epoch 8/20\n",
            "300/300 [==============================] - 179s 597ms/step - loss: -0.1082 - acc: 0.0000e+00 - dice_coef: 0.7193 - val_loss: -0.0438 - val_acc: 0.0000e+00 - val_dice_coef: 0.6761\n",
            "Epoch 9/20\n",
            "300/300 [==============================] - 179s 597ms/step - loss: -0.1320 - acc: 0.0000e+00 - dice_coef: 0.7294 - val_loss: -0.0848 - val_acc: 0.0000e+00 - val_dice_coef: 0.6468\n",
            "Epoch 10/20\n",
            "300/300 [==============================] - 179s 596ms/step - loss: -0.1440 - acc: 0.0000e+00 - dice_coef: 0.7454 - val_loss: -0.1998 - val_acc: 0.0000e+00 - val_dice_coef: 0.8300\n",
            "Epoch 11/20\n",
            "300/300 [==============================] - 181s 603ms/step - loss: -0.1606 - acc: 0.0000e+00 - dice_coef: 0.7324 - val_loss: -0.2121 - val_acc: 0.0000e+00 - val_dice_coef: 0.8292\n",
            "Epoch 12/20\n",
            "300/300 [==============================] - 179s 597ms/step - loss: -0.1732 - acc: 0.0000e+00 - dice_coef: 0.7368 - val_loss: -0.2530 - val_acc: 0.0000e+00 - val_dice_coef: 0.8586\n",
            "Epoch 13/20\n",
            "300/300 [==============================] - 179s 596ms/step - loss: -0.1868 - acc: 0.0000e+00 - dice_coef: 0.7423 - val_loss: -0.1799 - val_acc: 0.0000e+00 - val_dice_coef: 0.7937\n",
            "Epoch 14/20\n",
            "300/300 [==============================] - 179s 596ms/step - loss: -0.2041 - acc: 0.0000e+00 - dice_coef: 0.7571 - val_loss: -0.2806 - val_acc: 0.0000e+00 - val_dice_coef: 0.8673\n",
            "Epoch 15/20\n",
            "300/300 [==============================] - 179s 596ms/step - loss: -0.2206 - acc: 0.0000e+00 - dice_coef: 0.7485 - val_loss: -0.1011 - val_acc: 0.0000e+00 - val_dice_coef: 0.7231\n",
            "Epoch 16/20\n",
            "300/300 [==============================] - 179s 595ms/step - loss: -0.2150 - acc: 0.0000e+00 - dice_coef: 0.7419 - val_loss: 0.0272 - val_acc: 0.0000e+00 - val_dice_coef: 0.5556\n",
            "Epoch 17/20\n",
            "300/300 [==============================] - 179s 595ms/step - loss: -0.2545 - acc: 0.0000e+00 - dice_coef: 0.7626 - val_loss: -0.1547 - val_acc: 0.0000e+00 - val_dice_coef: 0.7094\n",
            "Epoch 18/20\n",
            "300/300 [==============================] - 179s 596ms/step - loss: -0.2701 - acc: 0.0000e+00 - dice_coef: 0.7736 - val_loss: -0.2406 - val_acc: 0.0000e+00 - val_dice_coef: 0.7549\n",
            "Epoch 19/20\n",
            "300/300 [==============================] - 179s 596ms/step - loss: -0.2730 - acc: 0.0000e+00 - dice_coef: 0.7720 - val_loss: -0.5836 - val_acc: 0.0000e+00 - val_dice_coef: 0.9788\n",
            "Epoch 20/20\n",
            "300/300 [==============================] - 179s 595ms/step - loss: -0.2831 - acc: 0.0000e+00 - dice_coef: 0.7722 - val_loss: -0.4073 - val_acc: 0.0000e+00 - val_dice_coef: 0.9099\n"
          ],
          "name": "stdout"
        },
        {
          "output_type": "execute_result",
          "data": {
            "text/plain": [
              "<keras.callbacks.History at 0x7f83ad80a208>"
            ]
          },
          "metadata": {
            "tags": []
          },
          "execution_count": 23
        }
      ]
    }
  ]
}